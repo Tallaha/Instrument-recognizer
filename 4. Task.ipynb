{
 "cells": [
  {
   "cell_type": "markdown",
   "metadata": {},
   "source": [
    "# Task DL. Instrument recoginzer\n",
    "\n",
    "- Student Name: Abu Tallaha Hussain\n",
    "- Student Number: r0889906"
   ]
  },
  {
   "cell_type": "markdown",
   "metadata": {},
   "source": [
    "## Imports"
   ]
  },
  {
   "cell_type": "code",
   "execution_count": 164,
   "metadata": {},
   "outputs": [],
   "source": [
    "import matplotlib.pyplot as plt\n",
    "\n",
    "import sklearn.metrics as metrics\n",
    "import numpy as np\n",
    "import tensorflow.keras as keras\n",
    "from keras.models import Sequential\n",
    "from keras.layers import Dense, Dropout, Flatten, BatchNormalization, Activation, MaxPool2D\n",
    "from keras.preprocessing.image import ImageDataGenerator\n",
    "from keras.layers.convolutional import Conv2D, MaxPooling2D\n",
    "from keras.utils import np_utils\n",
    "from sklearn.metrics import confusion_matrix, classification_report\n",
    "from tensorflow.keras.utils import to_categorical\n",
    "\n"
   ]
  },
  {
   "cell_type": "markdown",
   "metadata": {},
   "source": [
    "## Convolution"
   ]
  },
  {
   "cell_type": "code",
   "execution_count": 165,
   "metadata": {},
   "outputs": [],
   "source": [
    "model = Sequential()\n",
    "\n",
    "\n",
    "model.add(Conv2D(32, (3, 3), input_shape= (64, 64, 3)))\n",
    "model.add(Activation('relu'))\n",
    "model.add(MaxPooling2D(pool_size=(2, 2)))\n",
    "\n",
    "model.add(Conv2D(64, (3, 3)))\n",
    "model.add(Activation('relu'))\n",
    "model.add(MaxPooling2D(pool_size=(2, 2)))\n",
    "\n",
    "\n",
    "model.add(Flatten())\n",
    "\n",
    "model.add(Dense(64))\n",
    "model.add(Activation('relu'))\n",
    "model.add(Dropout(0.2))\n",
    "model.add(Dense(units=5))\n",
    "model.add(Activation('sigmoid'))"
   ]
  },
  {
   "cell_type": "markdown",
   "metadata": {},
   "source": [
    "## Compile"
   ]
  },
  {
   "cell_type": "code",
   "execution_count": 166,
   "metadata": {},
   "outputs": [],
   "source": [
    "model.compile(optimizer = 'adam', loss = 'categorical_crossentropy', metrics = ['accuracy'])"
   ]
  },
  {
   "cell_type": "markdown",
   "metadata": {},
   "source": [
    "## Model summary"
   ]
  },
  {
   "cell_type": "code",
   "execution_count": 167,
   "metadata": {},
   "outputs": [
    {
     "name": "stdout",
     "output_type": "stream",
     "text": [
      "Model: \"sequential_22\"\n",
      "_________________________________________________________________\n",
      "Layer (type)                 Output Shape              Param #   \n",
      "=================================================================\n",
      "conv2d_47 (Conv2D)           (None, 62, 62, 32)        896       \n",
      "_________________________________________________________________\n",
      "activation_45 (Activation)   (None, 62, 62, 32)        0         \n",
      "_________________________________________________________________\n",
      "max_pooling2d_42 (MaxPooling (None, 31, 31, 32)        0         \n",
      "_________________________________________________________________\n",
      "conv2d_48 (Conv2D)           (None, 29, 29, 64)        18496     \n",
      "_________________________________________________________________\n",
      "activation_46 (Activation)   (None, 29, 29, 64)        0         \n",
      "_________________________________________________________________\n",
      "max_pooling2d_43 (MaxPooling (None, 14, 14, 64)        0         \n",
      "_________________________________________________________________\n",
      "flatten_22 (Flatten)         (None, 12544)             0         \n",
      "_________________________________________________________________\n",
      "dense_44 (Dense)             (None, 64)                802880    \n",
      "_________________________________________________________________\n",
      "activation_47 (Activation)   (None, 64)                0         \n",
      "_________________________________________________________________\n",
      "dropout_24 (Dropout)         (None, 64)                0         \n",
      "_________________________________________________________________\n",
      "dense_45 (Dense)             (None, 5)                 325       \n",
      "_________________________________________________________________\n",
      "activation_48 (Activation)   (None, 5)                 0         \n",
      "=================================================================\n",
      "Total params: 822,597\n",
      "Trainable params: 822,597\n",
      "Non-trainable params: 0\n",
      "_________________________________________________________________\n",
      "None\n"
     ]
    }
   ],
   "source": [
    "print(model.summary())"
   ]
  },
  {
   "cell_type": "markdown",
   "metadata": {},
   "source": [
    "## Image Generator"
   ]
  },
  {
   "cell_type": "code",
   "execution_count": 168,
   "metadata": {},
   "outputs": [
    {
     "name": "stdout",
     "output_type": "stream",
     "text": [
      "Found 598 images belonging to 5 classes.\n",
      "Found 150 images belonging to 5 classes.\n"
     ]
    }
   ],
   "source": [
    "train_datagen = ImageDataGenerator(rescale = 1./255,\n",
    "                                   shear_range = 0.2,\n",
    "                                   zoom_range = 0.2,\n",
    "                                   horizontal_flip = True)\n",
    "\n",
    "test_datagen = ImageDataGenerator(rescale = 1./255)\n",
    "\n",
    "training_set = train_datagen.flow_from_directory('datasets/training_set',\n",
    "                                                 target_size = (64, 64),\n",
    "                                                 batch_size = 16,\n",
    "                                                 class_mode = 'categorical')\n",
    "\n",
    "test_set = test_datagen.flow_from_directory('datasets/test_set',\n",
    "                                            target_size = (64, 64),\n",
    "                                            batch_size = 16,\n",
    "                                            class_mode = 'categorical')"
   ]
  },
  {
   "cell_type": "markdown",
   "metadata": {},
   "source": [
    "## Train"
   ]
  },
  {
   "cell_type": "code",
   "execution_count": 169,
   "metadata": {},
   "outputs": [
    {
     "name": "stdout",
     "output_type": "stream",
     "text": [
      "Epoch 1/15\n",
      " 5/38 [==>...........................] - ETA: 3s - loss: 1.7982 - accuracy: 0.2250"
     ]
    },
    {
     "name": "stderr",
     "output_type": "stream",
     "text": [
      "C:\\Users\\Talla\\AppData\\Local\\Programs\\Python\\Python39\\lib\\site-packages\\PIL\\Image.py:973: UserWarning: Palette images with Transparency expressed in bytes should be converted to RGBA images\n",
      "  warnings.warn(\n"
     ]
    },
    {
     "name": "stdout",
     "output_type": "stream",
     "text": [
      "38/38 [==============================] - 6s 155ms/step - loss: 1.5846 - accuracy: 0.2793 - val_loss: 1.4939 - val_accuracy: 0.3667\n",
      "Epoch 2/15\n",
      "38/38 [==============================] - 6s 167ms/step - loss: 1.2586 - accuracy: 0.5033 - val_loss: 1.2946 - val_accuracy: 0.4533\n",
      "Epoch 3/15\n",
      "38/38 [==============================] - 7s 194ms/step - loss: 1.1253 - accuracy: 0.5552 - val_loss: 1.5580 - val_accuracy: 0.3800\n",
      "Epoch 4/15\n",
      "38/38 [==============================] - 8s 200ms/step - loss: 1.0509 - accuracy: 0.5953 - val_loss: 1.0763 - val_accuracy: 0.6000\n",
      "Epoch 5/15\n",
      "38/38 [==============================] - 6s 168ms/step - loss: 0.8609 - accuracy: 0.6906 - val_loss: 1.0135 - val_accuracy: 0.6133\n",
      "Epoch 6/15\n",
      "38/38 [==============================] - 7s 182ms/step - loss: 0.7784 - accuracy: 0.7274 - val_loss: 0.9829 - val_accuracy: 0.6400\n",
      "Epoch 7/15\n",
      "38/38 [==============================] - 7s 176ms/step - loss: 0.7154 - accuracy: 0.7274 - val_loss: 1.0546 - val_accuracy: 0.6267\n",
      "Epoch 8/15\n",
      "38/38 [==============================] - 6s 168ms/step - loss: 0.6789 - accuracy: 0.7508 - val_loss: 0.9176 - val_accuracy: 0.6533\n",
      "Epoch 9/15\n",
      "38/38 [==============================] - 6s 164ms/step - loss: 0.6411 - accuracy: 0.7742 - val_loss: 1.2054 - val_accuracy: 0.6133\n",
      "Epoch 10/15\n",
      "38/38 [==============================] - 7s 171ms/step - loss: 0.5529 - accuracy: 0.8194 - val_loss: 1.0969 - val_accuracy: 0.6467\n",
      "Epoch 11/15\n",
      "38/38 [==============================] - 6s 171ms/step - loss: 0.5022 - accuracy: 0.8294 - val_loss: 1.0922 - val_accuracy: 0.6133\n",
      "Epoch 12/15\n",
      "38/38 [==============================] - 6s 171ms/step - loss: 0.4790 - accuracy: 0.8395 - val_loss: 0.9972 - val_accuracy: 0.6867\n",
      "Epoch 13/15\n",
      "38/38 [==============================] - 7s 179ms/step - loss: 0.4260 - accuracy: 0.8528 - val_loss: 1.1044 - val_accuracy: 0.6933\n",
      "Epoch 14/15\n",
      "38/38 [==============================] - 6s 168ms/step - loss: 0.4347 - accuracy: 0.8378 - val_loss: 0.8511 - val_accuracy: 0.7600\n",
      "Epoch 15/15\n",
      "38/38 [==============================] - 6s 160ms/step - loss: 0.3636 - accuracy: 0.8679 - val_loss: 0.9841 - val_accuracy: 0.7067\n"
     ]
    }
   ],
   "source": [
    "history = model.fit(training_set,\n",
    "                    steps_per_epoch = len(training_set),\n",
    "                    epochs = 15,\n",
    "                    validation_data = test_set)"
   ]
  },
  {
   "cell_type": "markdown",
   "metadata": {},
   "source": [
    "## Model loss"
   ]
  },
  {
   "cell_type": "code",
   "execution_count": 170,
   "metadata": {},
   "outputs": [
    {
     "data": {
      "text/plain": [
       "Text(0.5, 1.0, 'Loss Curves')"
      ]
     },
     "execution_count": 170,
     "metadata": {},
     "output_type": "execute_result"
    },
    {
     "data": {
      "image/png": "[encoded data removed]",
      "text/plain": [
       "<Figure size 576x432 with 1 Axes>"
      ]
     },
     "metadata": {
      "needs_background": "light"
     },
     "output_type": "display_data"
    }
   ],
   "source": [
    "plt.figure(figsize=[8,6])\n",
    "\n",
    "plt.plot(history.history['loss'],'r',linewidth=3.0)\n",
    "\n",
    "plt.plot(history.history['val_loss'],'b',linewidth=3.0)\n",
    "\n",
    "plt.legend(['Training loss', 'Validation Loss'],fontsize=18)\n",
    "\n",
    "plt.xlabel('Epochs ',fontsize=16)\n",
    "\n",
    "plt.ylabel('Loss',fontsize=16)\n",
    "\n",
    "plt.title('Loss Curves',fontsize=16)"
   ]
  },
  {
   "cell_type": "code",
   "execution_count": 177,
   "metadata": {},
   "outputs": [
    {
     "data": {
      "image/png": "[encoded data removed]",
      "text/plain": [
       "<Figure size 432x288 with 1 Axes>"
      ]
     },
     "metadata": {
      "needs_background": "light"
     },
     "output_type": "display_data"
    }
   ],
   "source": [
    "plt.plot(history.history['accuracy'])\n",
    "\n",
    "plt.plot(history.history['val_accuracy'])\n",
    "\n",
    "plt.title('model accuracy')\n",
    "\n",
    "plt.legend(['train', 'test'], loc='upper left')\n",
    "\n",
    "plt.xlabel('epoch')\n",
    "\n",
    "plt.ylabel('accuracy')\n",
    "\n",
    "plt.show()"
   ]
  },
  {
   "cell_type": "markdown",
   "metadata": {},
   "source": [
    "## Confusion matrix & Report"
   ]
  },
  {
   "cell_type": "code",
   "execution_count": 176,
   "metadata": {},
   "outputs": [
    {
     "name": "stderr",
     "output_type": "stream",
     "text": [
      "C:\\Users\\Talla\\AppData\\Local\\Programs\\Python\\Python39\\lib\\site-packages\\PIL\\Image.py:973: UserWarning: Palette images with Transparency expressed in bytes should be converted to RGBA images\n",
      "  warnings.warn(\n"
     ]
    },
    {
     "name": "stdout",
     "output_type": "stream",
     "text": [
      "Confusion Matrix\n",
      "[[ 6  7  8  5  4]\n",
      " [ 5  4  8  6  7]\n",
      " [ 4  2 13  7  4]\n",
      " [ 4  6  9  6  5]\n",
      " [ 5  7  7  3  8]]\n",
      "Classification Report\n",
      "              precision    recall  f1-score   support\n",
      "\n",
      "       drums       0.25      0.20      0.22        30\n",
      "      flutes       0.15      0.13      0.14        30\n",
      "     guitars       0.29      0.43      0.35        30\n",
      "       piano       0.22      0.20      0.21        30\n",
      "    trumpets       0.29      0.27      0.28        30\n",
      "\n",
      "    accuracy                           0.25       150\n",
      "   macro avg       0.24      0.25      0.24       150\n",
      "weighted avg       0.24      0.25      0.24       150\n",
      "\n"
     ]
    }
   ],
   "source": [
    "Y_pred = model.predict(test_set, 30)\n",
    "y_pred = np.argmax(Y_pred, axis=1)\n",
    "print('Confusion Matrix')\n",
    "print(confusion_matrix(test_set.classes, y_pred))\n",
    "print('Classification Report')\n",
    "target_names = ['drums','flutes','guitars','piano','trumpets']\n",
    "print(classification_report(test_set.classes, y_pred, target_names=target_names))"
   ]
  },
  {
   "cell_type": "markdown",
   "metadata": {},
   "source": [
    "<div style=\"page-break-after: always; visibility: hidden\">\n",
    "\\pagebreak\n",
    "</div>\n",
    "                 \n",
    "***\n"
   ]
  },
  {
   "cell_type": "markdown",
   "metadata": {},
   "source": [
    "# Conclusion"
   ]
  },
  {
   "cell_type": "markdown",
   "metadata": {},
   "source": [
    "I have made a deep learning model which is capable of predicting what kind of instrument is in the image, within these 5 categories:\n",
    "+ Piano\n",
    "+ Guitar\n",
    "+ Drums\n",
    "+ Trumpet\n",
    "+ Flute"
   ]
  },
  {
   "cell_type": "markdown",
   "metadata": {},
   "source": [
    "I chose to work with them because i have had phases throughout my life where i have been engaged in using each of them and i also thought this could be a interesting starting project for me."
   ]
  },
  {
   "cell_type": "markdown",
   "metadata": {},
   "source": [
    "I started by downloading all the images and then extracted them. After extracting i normalized my data, so that i could split it into a training set and test set with a 80 - 20 % distribution. After having extracted and normalized my data, i split it into training and test set, with each falvour in the training set having 120 samples and each sample in the test set having 30 samples.\n",
    "\n",
    "After doing this, i change the name of the files, using this function:"
   ]
  },
  {
   "cell_type": "code",
   "execution_count": 12,
   "metadata": {},
   "outputs": [],
   "source": [
    "path = 'C:/Utveksling/Skole/AI/Hey-Waldo-master/256/notwaldo'\n",
    "i = 1\n",
    "for filename in os.listdir(path):\n",
    "    os.rename(os.path.join(path,filename), os.path.join(path,'enwaldo'+str(i)+'.jpg'))\n",
    "    i = i +1"
   ]
  },
  {
   "cell_type": "markdown",
   "metadata": {},
   "source": [
    "I faced a problem that was very difficult to overcome, overfitting. I tried many different things, such as reducing the capacity of the neural network, meaning removing some of the layers. I also tried increasing the dropout of the layers. This reduced the difference between the accuracy of the training set and testing set, but it still is not optimal. It was still overfit in the end.\n",
    "\n",
    "Another problem i faced throught this assignment is that some of the images were causing alot of trouble, for example this image:\n",
    "\n",
    "<img src=\"./resources/error.JPG\"  style=\"height: 400px\"/>"
   ]
  },
  {
   "cell_type": "markdown",
   "metadata": {},
   "source": [
    "It slowed down the performance by alot, and i was having some hardware issues while attempting to train my model and including this image so i decided to remove it and another similar photo. Hence why i have 598 images in the training-set."
   ]
  },
  {
   "cell_type": "markdown",
   "metadata": {},
   "source": [
    "Heres the confusion matrix from googles teachable machine, it obviously performs better than mine as mine is already faulty. "
   ]
  },
  {
   "cell_type": "markdown",
   "metadata": {},
   "source": [
    "<img src=\"./resources/googleCM.JPG\"  style=\"height: 400px\"/>"
   ]
  },
  {
   "cell_type": "markdown",
   "metadata": {},
   "source": [
    "<img src=\"./resources/modelCM.JPG\"  style=\"height: 400px\"/>"
   ]
  },
  {
   "cell_type": "markdown",
   "metadata": {},
   "source": [
    "### Sources:\n",
    "+ https://towardsdatascience.com/handling-overfitting-in-deep-learning-models-c760ee047c6e"
   ]
  }
 ],
 "metadata": {
  "interpreter": {
   "hash": "b90f62a812c01b4f34930df2bac729abd302445ad92b3f90c0ecd9e344029998"
  },
  "kernelspec": {
   "display_name": "Python 3.9.7 64-bit",
   "name": "python3"
  },
  "language_info": {
   "codemirror_mode": {
    "name": "ipython",
    "version": 3
   },
   "file_extension": ".py",
   "mimetype": "text/x-python",
   "name": "python",
   "nbconvert_exporter": "python",
   "pygments_lexer": "ipython3",
   "version": "3.9.7"
  }
 },
 "nbformat": 4,
 "nbformat_minor": 2
}
